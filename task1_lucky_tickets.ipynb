{
 "cells": [
  {
   "attachments": {},
   "cell_type": "markdown",
   "metadata": {},
   "source": [
    "Задача: подсчет количества счастливых билетиков. Сначала задача рассматривается для билетов с 6-значным номером.\n",
    "Для сравнения первично рассмотрен базовый алгоритм простого перебора:"
   ]
  },
  {
   "cell_type": "code",
   "execution_count": 1,
   "metadata": {},
   "outputs": [
    {
     "name": "stdout",
     "output_type": "stream",
     "text": [
      "55252\n"
     ]
    }
   ],
   "source": [
    "counter = 0\n",
    "\n",
    "for a1 in range(10):\n",
    "    for a2 in range(10):\n",
    "        for a3 in range(10):\n",
    "            for b1 in range(10):\n",
    "                for b2 in range(10):\n",
    "                    for b3 in range(10):\n",
    "                        if sum([a1, a2, a3]) == sum([b1, b2, b3]):\n",
    "                            counter += 1\n",
    "                            \n",
    "print(counter)"
   ]
  },
  {
   "attachments": {},
   "cell_type": "markdown",
   "metadata": {},
   "source": [
    "Слегка упрощенный вариант алгоритма перебора:"
   ]
  },
  {
   "cell_type": "code",
   "execution_count": 2,
   "metadata": {},
   "outputs": [
    {
     "data": {
      "text/plain": [
       "55252"
      ]
     },
     "execution_count": 2,
     "metadata": {},
     "output_type": "execute_result"
    }
   ],
   "source": [
    "counter = 0\n",
    "\n",
    "for a1 in range(10):\n",
    "    for a2 in range(10):\n",
    "        for a3 in range(10):\n",
    "            for b1 in range(10):\n",
    "                for b2 in range(10):\n",
    "                    d = a1 + a2 + a3 - b1 - b2\n",
    "                    if d >= 0 and d <= 9:\n",
    "                        counter += 1\n",
    "                                         \n",
    "counter"
   ]
  },
  {
   "attachments": {},
   "cell_type": "markdown",
   "metadata": {},
   "source": [
    "Данные алгоритмы не только не оптимальны, но и не могут быть адаптированы для решения аналогичной задачи с другим количеством знаков в номере билета.\n",
    "Рассмотрим алгоритмы, которые позволят это сделать. Первый алгоритм - рекурсивный подсчет (здесь и ниже функция вызывается от n - половина длины номера билета):"
   ]
  },
  {
   "cell_type": "code",
   "execution_count": 3,
   "metadata": {},
   "outputs": [
    {
     "data": {
      "text/plain": [
       "55252"
      ]
     },
     "execution_count": 3,
     "metadata": {},
     "output_type": "execute_result"
    }
   ],
   "source": [
    "def solver(n: int, counter=0, sum_left=0, sum_right=0):\n",
    "    if n == 0:\n",
    "        if sum_left == sum_right:\n",
    "            return counter + 1\n",
    "        return counter\n",
    "    for a in range(10):\n",
    "        for b in range(10):\n",
    "            counter = solver(n - 1, counter, sum_left + a, sum_right + b)\n",
    "    return counter\n",
    "\n",
    "solver(3)"
   ]
  },
  {
   "attachments": {},
   "cell_type": "markdown",
   "metadata": {},
   "source": [
    "Несмотря на корректность работы алгоритма, стоит отметить его неэффективность - время выполнения даже для относительно небольшого количества чисел достаточно велико."
   ]
  },
  {
   "cell_type": "code",
   "execution_count": 6,
   "metadata": {},
   "outputs": [
    {
     "data": {
      "text/plain": [
       "4816030"
      ]
     },
     "execution_count": 6,
     "metadata": {},
     "output_type": "execute_result"
    }
   ],
   "source": [
    "solver(4)"
   ]
  },
  {
   "attachments": {},
   "cell_type": "markdown",
   "metadata": {},
   "source": [
    "Алгоритм, основанный на рассмотрении возможного количества численных комбинаций, дающих определенную сумму оказывается достаточно эффективен, в том числе для больших значений n (20-значный номер билета)."
   ]
  },
  {
   "cell_type": "code",
   "execution_count": 7,
   "metadata": {},
   "outputs": [
    {
     "data": {
      "text/plain": [
       "4816030"
      ]
     },
     "execution_count": 7,
     "metadata": {},
     "output_type": "execute_result"
    }
   ],
   "source": [
    "def return_row(n: int):\n",
    "    if n == 1:\n",
    "        res = sum_steps([1])\n",
    "    else:\n",
    "        res = sum_steps(return_row(n - 1))\n",
    "    return res\n",
    "\n",
    "def sum_steps(row: list):\n",
    "    res = row + 9 * [0]\n",
    "    for i in range(1, 10):\n",
    "        next_row = i * [0] + row + (9 - i) * [0]\n",
    "        res = sum_list(res, next_row)\n",
    "    return res \n",
    "            \n",
    "def sum_list(a: list, b: list):\n",
    "    res = []\n",
    "    for i in range(min(len(a), len(b))):\n",
    "        res.append(a[i] + b[i])\n",
    "    return res\n",
    "    \n",
    "def lucky_tickets(n: int):\n",
    "    return sum([i ** 2 for i in return_row(n)])\n",
    "        \n",
    "lucky_tickets(4)"
   ]
  },
  {
   "cell_type": "code",
   "execution_count": 8,
   "metadata": {},
   "outputs": [
    {
     "data": {
      "text/plain": [
       "3081918923741896840"
      ]
     },
     "execution_count": 8,
     "metadata": {},
     "output_type": "execute_result"
    }
   ],
   "source": [
    "lucky_tickets(10)"
   ]
  }
 ],
 "metadata": {
  "kernelspec": {
   "display_name": "Python 3",
   "language": "python",
   "name": "python3"
  },
  "language_info": {
   "codemirror_mode": {
    "name": "ipython",
    "version": 3
   },
   "file_extension": ".py",
   "mimetype": "text/x-python",
   "name": "python",
   "nbconvert_exporter": "python",
   "pygments_lexer": "ipython3",
   "version": "3.10.4 (main, Dec 19 2022, 20:24:16) [GCC 9.4.0]"
  },
  "orig_nbformat": 4,
  "vscode": {
   "interpreter": {
    "hash": "3ad933181bd8a04b432d3370b9dc3b0662ad032c4dfaa4e4f1596c548f763858"
   }
  }
 },
 "nbformat": 4,
 "nbformat_minor": 2
}
