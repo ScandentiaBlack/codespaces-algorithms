{
 "cells": [
  {
   "cell_type": "code",
   "execution_count": 1,
   "metadata": {},
   "outputs": [],
   "source": [
    "import time"
   ]
  },
  {
   "attachments": {},
   "cell_type": "markdown",
   "metadata": {},
   "source": [
    "Рассмотрим некоторые алгебраические алгоритмы.\n",
    "Для проверки корректности работы алгоритмов и сравнения их времени выполнения используем простой тестировщик. Данные для тестирования отсортированы по возрастанию, поэтому, если время выполнения превысило 3 секунды, тестирование выбранного алгоритма прекратится."
   ]
  },
  {
   "cell_type": "code",
   "execution_count": 2,
   "metadata": {},
   "outputs": [],
   "source": [
    "def easy_testing(alg_function, test_in, test_out):\n",
    "    for i in range(len(test_in)):\n",
    "        #начало отсчета времени исполнения алгоритма\n",
    "        start = time.time()\n",
    "\n",
    "        try:\n",
    "            result = alg_function(test_in[i])\n",
    "        except:\n",
    "            print(f'Test {i + 1}: Error happened')\n",
    "            break\n",
    "\n",
    "        #окончание отсчета времени исполнения алгоритма\n",
    "        end = time.time() - start \n",
    "\n",
    "        #если результат некорректен, то выведется полученный результат и корректный ответ\n",
    "        if result == test_out[i]:  \n",
    "            print(f'Test {i + 1}: check: {result == test_out[i]}, time: {round(end * 1000, 5)} ms.')\n",
    "\n",
    "        else:\n",
    "            print(f'Test {i + 1}: check: {result == test_out[i]}, time: {round(end * 1000, 5)} ms. Input: {test_in[i]}, result: {result}, correct answer: {test_out[i]}')\n",
    "        \n",
    "        #если время исполнения алгоритма с текущими параметрами превысило 3 секунды, то тестирование остановится\n",
    "        if end >= 3: \n",
    "            break"
   ]
  },
  {
   "attachments": {},
   "cell_type": "markdown",
   "metadata": {},
   "source": [
    "1) Алгоритм возведения в степень"
   ]
  },
  {
   "attachments": {},
   "cell_type": "markdown",
   "metadata": {},
   "source": [
    "Задача: Реализовать итеративный O(N) алгоритм возведения числа в степень - O(N)."
   ]
  },
  {
   "cell_type": "code",
   "execution_count": 3,
   "metadata": {},
   "outputs": [],
   "source": [
    "#тестовые данные:\n",
    "test_power_in = [(2.0, 10), (123456789.0, 0), (1.001, 1000), (1.0001, 10000), (1.00001, 100000), (1.000001, 1000000), (1.0000001, 10000000), (1.00000001, 100000000), (1.000000001, 1000000000), (1.0000000001, 10000000000)]\n",
    "test_power_out = [1024.0, 1.0, 2.71692393224, 2.71814592682, 2.71826823719, 2.7182804691, 2.71828169413, 2.71828179835, 2.71828205201, 2.71828205323]"
   ]
  },
  {
   "cell_type": "code",
   "execution_count": 4,
   "metadata": {},
   "outputs": [
    {
     "name": "stdout",
     "output_type": "stream",
     "text": [
      "Test 1: check: True, time: 0.00334 ms.\n",
      "Test 2: check: True, time: 0.00334 ms.\n",
      "Test 3: check: False, time: 0.0658 ms. Input: (1.001, 1000), result: 2.7169239322355985, correct answer: 2.71692393224\n",
      "Test 4: check: False, time: 0.67806 ms. Input: (1.0001, 10000), result: 2.7181459268248984, correct answer: 2.71814592682\n",
      "Test 5: check: False, time: 7.75027 ms. Input: (1.00001, 100000), result: 2.718268237192295, correct answer: 2.71826823719\n",
      "Test 6: check: False, time: 151.82281 ms. Input: (1.000001, 1000000), result: 2.7182804690959363, correct answer: 2.7182804691\n",
      "Test 7: check: False, time: 1208.38523 ms. Input: (1.0000001, 10000000), result: 2.7182816941320103, correct answer: 2.71828169413\n",
      "Test 8: check: False, time: 4749.5327 ms. Input: (1.00000001, 100000000), result: 2.71828179834636, correct answer: 2.71828179835\n"
     ]
    }
   ],
   "source": [
    "def to_power_0(in_base_n):\n",
    "    base = in_base_n[0]\n",
    "    n = in_base_n[1]\n",
    "    result = 1\n",
    "    for _ in range(n):\n",
    "\n",
    "        #очевидный алгоритм, умножение производится n раз\n",
    "        result *= base\n",
    "\n",
    "    return result\n",
    "\n",
    "easy_testing(to_power_0, test_power_in, test_power_out)"
   ]
  },
  {
   "attachments": {},
   "cell_type": "markdown",
   "metadata": {},
   "source": [
    "Задача: Реализовать алгоритм возведения в степень через домножение O(N/2+LogN) = O(N)."
   ]
  },
  {
   "cell_type": "code",
   "execution_count": 5,
   "metadata": {},
   "outputs": [
    {
     "name": "stdout",
     "output_type": "stream",
     "text": [
      "Test 1: check: True, time: 0.00787 ms.\n",
      "Test 2: check: True, time: 0.00095 ms.\n",
      "Test 3: check: False, time: 0.04339 ms. Input: (1.001, 1000), result: 2.7169239322355203, correct answer: 2.71692393224\n",
      "Test 4: check: False, time: 0.04911 ms. Input: (1.0001, 10000), result: 2.718145926824356, correct answer: 2.71814592682\n",
      "Test 5: check: False, time: 0.0782 ms. Input: (1.00001, 100000), result: 2.7182682371975284, correct answer: 2.71826823719\n",
      "Test 6: check: False, time: 0.14114 ms. Input: (1.000001, 1000000), result: 2.7182804691564275, correct answer: 2.7182804691\n",
      "Test 7: check: False, time: 0.16904 ms. Input: (1.0000001, 10000000), result: 2.7182816939803724, correct answer: 2.71828169413\n",
      "Test 8: check: False, time: 0.36716 ms. Input: (1.00000001, 100000000), result: 2.7182817863957975, correct answer: 2.71828179835\n",
      "Test 9: check: False, time: 0.91171 ms. Input: (1.000000001, 1000000000), result: 2.7182820308145095, correct answer: 2.71828205201\n",
      "Test 10: check: False, time: 0.41509 ms. Input: (1.0000000001, 10000000000), result: 2.718282043475248, correct answer: 2.71828205323\n"
     ]
    }
   ],
   "source": [
    "def to_power_1(in_base_n):\n",
    "    base = in_base_n[0]\n",
    "    n = in_base_n[1]\n",
    "\n",
    "    if n == 0 or base == 1:\n",
    "        return 1\n",
    "\n",
    "    if n == 1:\n",
    "        return base\n",
    "    \n",
    "    #раскладываем степень n на сумму двух чисел - степень двойки n_1 и разница n_2 = n - n_1\n",
    "    degrees_of_2 = [1, 2]\n",
    "    while n > degrees_of_2[-1]:\n",
    "        #в цикле подбирается наибольшая степень двойки, не превосходящая n\n",
    "        degrees_of_2.append(degrees_of_2[-1] * 2) \n",
    "        \n",
    "    #если n уже является степенью двойки, то функция вернет квадрат основания в степени n / 2\n",
    "    if n == degrees_of_2[-1]:\n",
    "        return to_power_1((base * base, n // 2)) \n",
    "    \n",
    "    #разделение степеней\n",
    "    n_1 = degrees_of_2[-2]\n",
    "    n_2 = n - n_1 \n",
    "    \n",
    "    #возвращаем произведение основания в степени n_1 и основания в степени n_2\n",
    "    return to_power_1((base, n_1)) * to_power_1((base, n_2)) \n",
    "\n",
    "easy_testing(to_power_1, test_power_in, test_power_out)"
   ]
  },
  {
   "attachments": {},
   "cell_type": "markdown",
   "metadata": {},
   "source": [
    "Задача: Реализовать алгоритм возведения в степень через двоичное разложение показателя степени O(2LogN) = O(LogN)."
   ]
  },
  {
   "cell_type": "code",
   "execution_count": 6,
   "metadata": {},
   "outputs": [
    {
     "name": "stdout",
     "output_type": "stream",
     "text": [
      "Test 1: check: True, time: 0.00834 ms.\n",
      "Test 2: check: True, time: 0.00119 ms.\n",
      "Test 3: check: False, time: 0.04101 ms. Input: (1.001, 1000), result: 2.7169239322355203, correct answer: 2.71692393224\n",
      "Test 4: check: False, time: 0.04935 ms. Input: (1.0001, 10000), result: 2.718145926824356, correct answer: 2.71814592682\n",
      "Test 5: check: False, time: 0.07677 ms. Input: (1.00001, 100000), result: 2.7182682371975284, correct answer: 2.71826823719\n",
      "Test 6: check: False, time: 0.13947 ms. Input: (1.000001, 1000000), result: 2.7182804691564275, correct answer: 2.7182804691\n",
      "Test 7: check: False, time: 0.16832 ms. Input: (1.0000001, 10000000), result: 2.7182816939803724, correct answer: 2.71828169413\n",
      "Test 8: check: False, time: 0.36144 ms. Input: (1.00000001, 100000000), result: 2.7182817863957975, correct answer: 2.71828179835\n",
      "Test 9: check: False, time: 0.46158 ms. Input: (1.000000001, 1000000000), result: 2.7182820308145095, correct answer: 2.71828205201\n",
      "Test 10: check: False, time: 0.40555 ms. Input: (1.0000000001, 10000000000), result: 2.718282043475248, correct answer: 2.71828205323\n"
     ]
    }
   ],
   "source": [
    "def to_power_2(in_base_n):\n",
    "    base = in_base_n[0]\n",
    "    n = in_base_n[1]\n",
    "    \n",
    "    result = 1\n",
    "    #степень n раскладывается на сумму степеней двойки\n",
    "    while n >= 1:\n",
    "        \n",
    "        #для подходящих степеней домножаем на основание\n",
    "        if n % 2 == 1:\n",
    "\n",
    "            result *= base\n",
    "\n",
    "        #для следующего шага основание возводится в квадрат\n",
    "        base *= base\n",
    "        n = n // 2\n",
    "\n",
    "    return result\n",
    "\n",
    "easy_testing(to_power_1, test_power_in, test_power_out)"
   ]
  },
  {
   "attachments": {},
   "cell_type": "markdown",
   "metadata": {},
   "source": [
    "Вывод: по проведенным тестам видно, что время выполнения оптимизированных алгоритмов на несколько порядков меньше, однако для рациональных чисел результат может быть получен с погрешностью (скорее всего, связано с особенностью яызка Python - искажение длинных чисел формата float)"
   ]
  },
  {
   "attachments": {},
   "cell_type": "markdown",
   "metadata": {},
   "source": [
    "2) Числа Фибоначчи"
   ]
  },
  {
   "cell_type": "code",
   "execution_count": 7,
   "metadata": {},
   "outputs": [],
   "source": [
    "#тестовые данные:\n",
    "test_fibonacci_in = [0, 1, 2, 3, 5, 15, 25, 50, 75, 100, 150, 200, 500]\n",
    "test_fibonacci_out = [0, 1, 1, 2, 5, 610, 75025, 12586269025, 2111485077978050, 354224848179261915075, 9969216677189303386214405760200, 280571172992510140037611932413038677189525, 139423224561697880139724382870407283950070256587697307264108962948325571622863290691557658876222521294125]\n"
   ]
  },
  {
   "attachments": {},
   "cell_type": "markdown",
   "metadata": {},
   "source": [
    "Задача: Реализовать рекурсивный O(2^N) алгоритм поиска чисел Фибоначчи."
   ]
  },
  {
   "cell_type": "code",
   "execution_count": 8,
   "metadata": {},
   "outputs": [
    {
     "name": "stdout",
     "output_type": "stream",
     "text": [
      "Test 1: check: True, time: 0.00119 ms.\n",
      "Test 2: check: True, time: 0.00095 ms.\n",
      "Test 3: check: True, time: 0.00215 ms.\n",
      "Test 4: check: True, time: 0.00143 ms.\n",
      "Test 5: check: True, time: 0.00381 ms.\n",
      "Test 6: check: True, time: 0.29826 ms.\n",
      "Test 7: check: True, time: 36.58819 ms.\n",
      "Test 8: check: True, time: 6267060.29892 ms.\n"
     ]
    }
   ],
   "source": [
    "def n_Fibonacci_0(n):\n",
    "    if n == 0:\n",
    "        return 0.0\n",
    "    \n",
    "    if n == 1:\n",
    "        return 1.0\n",
    "\n",
    "    #очевидный алгоритм, нужное число Фибоначчи рассчитывается как сумма двух предыдущих чисел \n",
    "    return float(n_Fibonacci_0(n - 1)) + float(n_Fibonacci_0(n - 2))\n",
    "\n",
    "easy_testing(n_Fibonacci_0, test_fibonacci_in, test_fibonacci_out)"
   ]
  },
  {
   "attachments": {},
   "cell_type": "markdown",
   "metadata": {},
   "source": [
    "Задача: Реализовать итеративный O(N) алгоритм поиска чисел Фибоначчи."
   ]
  },
  {
   "cell_type": "code",
   "execution_count": 9,
   "metadata": {},
   "outputs": [
    {
     "name": "stdout",
     "output_type": "stream",
     "text": [
      "Test 1: check: True, time: 0.00215 ms.\n",
      "Test 2: check: True, time: 0.02432 ms.\n",
      "Test 3: check: True, time: 0.00095 ms.\n",
      "Test 4: check: True, time: 0.0031 ms.\n",
      "Test 5: check: True, time: 0.00262 ms.\n",
      "Test 6: check: True, time: 0.00525 ms.\n",
      "Test 7: check: True, time: 0.00834 ms.\n",
      "Test 8: check: True, time: 0.01621 ms.\n",
      "Test 9: check: True, time: 0.01764 ms.\n",
      "Test 10: check: True, time: 0.0267 ms.\n",
      "Test 11: check: True, time: 0.03195 ms.\n",
      "Test 12: check: True, time: 0.03171 ms.\n",
      "Test 13: check: True, time: 0.09918 ms.\n"
     ]
    }
   ],
   "source": [
    "def n_Fibonacci_1(n):\n",
    "    steps = [0, 1, 1]\n",
    "    \n",
    "    if n == 0 or n == 1 or n == 2:\n",
    "        \n",
    "        return steps[n]\n",
    "    \n",
    "    #в цикле производится вычисление нужного числа Фибоначчи по стандартной формуле, два предыдущих числа каждый цикл сохраняются\n",
    "    for i in range(2, n):\n",
    "\n",
    "        steps[0] = steps[1]\n",
    "        steps[1] = steps[2]\n",
    "        steps[2] = steps[0] + steps[1]\n",
    "\n",
    "    return steps[2]\n",
    "\n",
    "easy_testing(n_Fibonacci_1, test_fibonacci_in, test_fibonacci_out)"
   ]
  },
  {
   "attachments": {},
   "cell_type": "markdown",
   "metadata": {},
   "source": [
    "Задача: Реализовать алгоритм поиска чисел Фибоначчи по формуле золотого сечения."
   ]
  },
  {
   "cell_type": "code",
   "execution_count": 10,
   "metadata": {},
   "outputs": [
    {
     "name": "stdout",
     "output_type": "stream",
     "text": [
      "Test 1: check: True, time: 0.00095 ms.\n",
      "Test 2: check: True, time: 0.00095 ms.\n",
      "Test 3: check: True, time: 0.00405 ms.\n",
      "Test 4: check: True, time: 0.00191 ms.\n",
      "Test 5: check: True, time: 0.00167 ms.\n",
      "Test 6: check: True, time: 0.00072 ms.\n",
      "Test 7: check: True, time: 0.00072 ms.\n",
      "Test 8: check: True, time: 0.00095 ms.\n",
      "Test 9: check: False, time: 0.00143 ms. Input: 75, result: 2111485077978055, correct answer: 2111485077978050\n",
      "Test 10: check: False, time: 0.00095 ms. Input: 100, result: 354224848179263111168, correct answer: 354224848179261915075\n",
      "Test 11: check: False, time: 0.00119 ms. Input: 150, result: 9969216677189352939733964029952, correct answer: 9969216677189303386214405760200\n",
      "Test 12: check: False, time: 0.00119 ms. Input: 200, result: 280571172992512015699912586503521287798784, correct answer: 280571172992510140037611932413038677189525\n",
      "Test 13: check: False, time: 0.00095 ms. Input: 500, result: 139423224561700228711116466856628305532793116368214754989670287848858933271320300167384646404854199091200, correct answer: 139423224561697880139724382870407283950070256587697307264108962948325571622863290691557658876222521294125\n"
     ]
    }
   ],
   "source": [
    "def n_Fibonacci_2(n):\n",
    "    if n == 0:\n",
    "        return 0\n",
    "\n",
    "    if n == 1:\n",
    "        return 1\n",
    "    \n",
    "    #число Фибоначчи вычисляется по формуле золотого сечения\n",
    "    phi = (1 + 5 ** 0.5) / 2\n",
    "    f = (phi ** n) / (5 ** 0.5) + 0.5\n",
    "    \n",
    "    return int(f // 1)\n",
    "\n",
    "easy_testing(n_Fibonacci_2, test_fibonacci_in, test_fibonacci_out)"
   ]
  },
  {
   "attachments": {},
   "cell_type": "markdown",
   "metadata": {},
   "source": [
    "Задача: Написать класс умножения матриц, реализовать алгоритм возведения матрицы в степень через двоичное разложение показателя степени, реализовать алгоритм поиска чисел Фибоначчи O(LogN) через умножение матриц, используя созданный класс."
   ]
  },
  {
   "cell_type": "code",
   "execution_count": 11,
   "metadata": {},
   "outputs": [
    {
     "name": "stdout",
     "output_type": "stream",
     "text": [
      "Test 1: check: True, time: 0.00143 ms.\n",
      "Test 2: check: True, time: 0.00143 ms.\n",
      "Test 3: check: True, time: 0.00167 ms.\n",
      "Test 4: check: True, time: 0.00811 ms.\n",
      "Test 5: check: True, time: 0.0093 ms.\n",
      "Test 6: check: True, time: 0.01597 ms.\n",
      "Test 7: check: True, time: 0.01812 ms.\n",
      "Test 8: check: True, time: 0.0174 ms.\n",
      "Test 9: check: True, time: 0.02217 ms.\n",
      "Test 10: check: True, time: 0.0217 ms.\n",
      "Test 11: check: True, time: 0.02527 ms.\n",
      "Test 12: check: True, time: 0.32353 ms.\n",
      "Test 13: check: True, time: 0.06318 ms.\n"
     ]
    }
   ],
   "source": [
    "#определяем функцию, которая будет перемножать матрицы размера 2х2\n",
    "def matrix_multiplied(matrix: list, matrix_2=[]):\n",
    "\n",
    "    #матрицы задаются как списки строк\n",
    "    m_result = [[0, 0], [0, 0]]\n",
    "    \n",
    "    if matrix_2 == []:\n",
    "\n",
    "        matrix_2 = matrix.copy()\n",
    "    \n",
    "    #определение результата умножения\n",
    "    m_result[0][0] = matrix[0][0] * matrix_2[0][0] + matrix[0][1] * matrix_2[1][0]\n",
    "    m_result[0][1] = matrix[0][0] * matrix_2[0][1] + matrix[0][1] * matrix_2[1][1]\n",
    "    m_result[1][0] = matrix[1][0] * matrix_2[0][0] + matrix[1][1] * matrix_2[1][0]\n",
    "    m_result[1][1] = matrix[1][0] * matrix_2[0][1] + matrix[1][1] * matrix_2[1][1]\n",
    "\n",
    "    return m_result\n",
    "\n",
    "def n_Fibonacci_3(n):\n",
    "    if n == 0:\n",
    "        return 0\n",
    "    \n",
    "    if n == 1:\n",
    "        return 1\n",
    "\n",
    "    n -= 2\n",
    "\n",
    "    base = [[1, 1], [1, 0]]\n",
    "    p = [[1, 1], [1, 1]]\n",
    "\n",
    "    #умножение производится по аналогии с алгоритмом to_power_2 - степень раскладывается как сумма степеней двойки\n",
    "    while n >= 1:\n",
    "\n",
    "        if n % 2 == 1:\n",
    "            \n",
    "            p = matrix_multiplied(p, base)\n",
    "\n",
    "        base = matrix_multiplied(base)\n",
    "        n = n // 2\n",
    "    \n",
    "    #нужное число Фибоначчи хранится в ячейке [0][0] матрицы, полученной в результате умножения\n",
    "    return p[0][0]\n",
    "\n",
    "easy_testing(n_Fibonacci_3, test_fibonacci_in, test_fibonacci_out)"
   ]
  },
  {
   "attachments": {},
   "cell_type": "markdown",
   "metadata": {},
   "source": [
    "Вывод: алгоритм, основанный на матричном вычислении, показывает наилучшие результаты по времени выполнения. Более \"выгодным\" является алгоритм, использующий формулу золотого сечения, однако результат вычисления получен с погрешностью даже для относительно небольших значений n."
   ]
  },
  {
   "attachments": {},
   "cell_type": "markdown",
   "metadata": {},
   "source": [
    "3) Алгоритм поиска простых чисел"
   ]
  },
  {
   "cell_type": "code",
   "execution_count": 12,
   "metadata": {},
   "outputs": [],
   "source": [
    "#тестовые данные:\n",
    "test_primes_in = [10, 1, 1000000, 10000000, 100000000, 1000000000, 123456789, 2, 3, 4, 5, 100, 1000, 10000, 100000]\n",
    "test_primes_out = [4, 0, 78498, 664579, 5761455, 50847534, 7027260, 1, 2, 2, 3, 25, 168, 1229, 9592]\n",
    "test_primes_in.sort()\n",
    "test_primes_out.sort()"
   ]
  },
  {
   "attachments": {},
   "cell_type": "markdown",
   "metadata": {},
   "source": [
    "Задача: Реализовать алгоритм поиска количества простых чисел через перебор делителей, O(N^2)."
   ]
  },
  {
   "cell_type": "code",
   "execution_count": 13,
   "metadata": {},
   "outputs": [
    {
     "name": "stdout",
     "output_type": "stream",
     "text": [
      "Test 1: check: True, time: 0.00215 ms.\n",
      "Test 2: check: True, time: 0.00358 ms.\n",
      "Test 3: check: True, time: 0.00215 ms.\n",
      "Test 4: check: True, time: 0.00262 ms.\n",
      "Test 5: check: True, time: 0.0031 ms.\n",
      "Test 6: check: True, time: 0.00668 ms.\n",
      "Test 7: check: True, time: 0.25535 ms.\n",
      "Test 8: check: True, time: 27.46511 ms.\n",
      "Test 9: check: True, time: 3110.42595 ms.\n"
     ]
    }
   ],
   "source": [
    "def is_prime_0(n):\n",
    "\n",
    "    if n == 0 or n == 1:\n",
    "        return False\n",
    "\n",
    "    count_devisors = 0\n",
    "\n",
    "    for i in range(1, n + 1):\n",
    "\n",
    "        #в цикле производится подсчет количества делителей числа перебором\n",
    "        if n % i == 0:\n",
    "            count_devisors += 1\n",
    "            \n",
    "    if count_devisors == 2:\n",
    "        return True\n",
    "\n",
    "    return False\n",
    "\n",
    "def count_primes_0(n):\n",
    "\n",
    "    count_primes = 0\n",
    "    #в цикле проводится очевидный подсчет количества простых чисел перебором\n",
    "    for i in range(1, n + 1):\n",
    "\n",
    "        if is_prime_0(i):\n",
    "            count_primes += 1\n",
    "\n",
    "    return count_primes\n",
    "\n",
    "easy_testing(count_primes_0, test_primes_in, test_primes_out)"
   ]
  },
  {
   "attachments": {},
   "cell_type": "markdown",
   "metadata": {},
   "source": [
    "Улучшенный вариант алгоритма перебором (O(n^2)):"
   ]
  },
  {
   "cell_type": "code",
   "execution_count": 14,
   "metadata": {},
   "outputs": [
    {
     "name": "stdout",
     "output_type": "stream",
     "text": [
      "Test 1: check: True, time: 0.00262 ms.\n",
      "Test 2: check: True, time: 0.00262 ms.\n",
      "Test 3: check: True, time: 0.00191 ms.\n",
      "Test 4: check: True, time: 0.00191 ms.\n",
      "Test 5: check: True, time: 0.00238 ms.\n",
      "Test 6: check: True, time: 0.00405 ms.\n",
      "Test 7: check: True, time: 0.06914 ms.\n",
      "Test 8: check: True, time: 5.94115 ms.\n",
      "Test 9: check: True, time: 292.87291 ms.\n",
      "Test 10: check: True, time: 22848.9964 ms.\n"
     ]
    }
   ],
   "source": [
    "def is_prime_1(n):\n",
    "\n",
    "    count_devisors = 0\n",
    "\n",
    "    if n == 2:\n",
    "        return True\n",
    "\n",
    "    if n == 1 or n % 2 == 0:\n",
    "        return False\n",
    "\n",
    "    #в цикле проводится подсчет количества делителей числа перебором, четные числа не учитываются\n",
    "    for i in range(3, n + 1, 2):\n",
    "\n",
    "        if n % i == 0:\n",
    "            count_devisors += 1\n",
    "\n",
    "        #если количество делителей превысило 2, цикл останавливается\n",
    "        if count_devisors >= 2:\n",
    "            return False\n",
    "        \n",
    "    return True\n",
    "\n",
    "def count_primes_1(n):\n",
    "\n",
    "    count_primes = 0\n",
    "\n",
    "    for i in range(1, n + 1):\n",
    "\n",
    "        #подсчет количества простых чисел перебором\n",
    "        if is_prime_1(i):\n",
    "            count_primes += 1\n",
    "\n",
    "    return count_primes\n",
    "\n",
    "easy_testing(count_primes_1, test_primes_in, test_primes_out)"
   ]
  },
  {
   "attachments": {},
   "cell_type": "markdown",
   "metadata": {},
   "source": [
    "Улучшенный вариант алгоритма перебором до корня из n (O(n^1.5)):"
   ]
  },
  {
   "cell_type": "code",
   "execution_count": 15,
   "metadata": {},
   "outputs": [
    {
     "name": "stdout",
     "output_type": "stream",
     "text": [
      "Test 1: check: True, time: 0.00262 ms.\n",
      "Test 2: check: True, time: 0.00191 ms.\n",
      "Test 3: check: True, time: 0.00715 ms.\n",
      "Test 4: check: True, time: 0.00334 ms.\n",
      "Test 5: check: True, time: 0.00381 ms.\n",
      "Test 6: check: True, time: 0.00644 ms.\n",
      "Test 7: check: True, time: 0.07153 ms.\n",
      "Test 8: check: True, time: 0.77653 ms.\n",
      "Test 9: check: True, time: 6.08945 ms.\n",
      "Test 10: check: True, time: 97.05305 ms.\n",
      "Test 11: check: True, time: 2173.07258 ms.\n",
      "Test 12: check: True, time: 60561.24163 ms.\n"
     ]
    }
   ],
   "source": [
    "def is_prime_2(n):\n",
    "\n",
    "    count_devisors = 0\n",
    "\n",
    "    if n == 2:\n",
    "        return True\n",
    "\n",
    "    if n == 1 or n % 2 == 0:\n",
    "        return False\n",
    "\n",
    "    #в цикле проводится поиск делителей числа n перебором до корня из n, четные числа не учитываются\n",
    "    for i in range(3, int(n ** 0.5) + 1, 2):\n",
    "        \n",
    "        #если делитель выявлен, число не является простым\n",
    "        if n % i == 0:\n",
    "            return False\n",
    "            \n",
    "    return True\n",
    "\n",
    "def count_primes_2(n):\n",
    "\n",
    "    count_primes = 0\n",
    "\n",
    "    for i in range(1, n + 1):\n",
    "        \n",
    "        #подсчет количества простых чисел перебором\n",
    "        if is_prime_2(i):\n",
    "            count_primes += 1\n",
    "\n",
    "    return count_primes\n",
    "\n",
    "easy_testing(count_primes_2, test_primes_in, test_primes_out)"
   ]
  },
  {
   "attachments": {},
   "cell_type": "markdown",
   "metadata": {},
   "source": [
    "Задача: Реализовать алгоритм поиска простых чисел с оптимизациями поиска и делением только на простые числа, O(N * Sqrt(N) / Ln (N))"
   ]
  },
  {
   "cell_type": "code",
   "execution_count": 16,
   "metadata": {},
   "outputs": [
    {
     "name": "stdout",
     "output_type": "stream",
     "text": [
      "Test 1: check: True, time: 0.00215 ms.\n",
      "Test 2: check: True, time: 0.00286 ms.\n",
      "Test 3: check: True, time: 0.00405 ms.\n",
      "Test 4: check: True, time: 0.00191 ms.\n",
      "Test 5: check: True, time: 0.00262 ms.\n",
      "Test 6: check: True, time: 0.00453 ms.\n",
      "Test 7: check: True, time: 0.04911 ms.\n",
      "Test 8: check: True, time: 0.60511 ms.\n",
      "Test 9: check: True, time: 9.57179 ms.\n",
      "Test 10: check: True, time: 132.38049 ms.\n",
      "Test 11: check: True, time: 2336.81822 ms.\n",
      "Test 12: check: True, time: 47870.05115 ms.\n"
     ]
    }
   ],
   "source": [
    "def is_prime_3(n, list_primes):\n",
    "\n",
    "    if n == 1:\n",
    "        return False\n",
    "\n",
    "    if n == 2:\n",
    "        return True\n",
    "\n",
    "    #в цикле проверяется делимость только на простые числа, для этого функция принимает не только число, но и список простых чисел\n",
    "    for prime in list_primes:\n",
    "\n",
    "        if prime > n ** 0.5:\n",
    "            return True\n",
    "\n",
    "        if n % prime == 0:\n",
    "            return False\n",
    "\n",
    "    return True\n",
    "\n",
    "\n",
    "def count_primes_3(n):\n",
    "\n",
    "    #функция хранит список выявленных простых чисел\n",
    "    list_primes = []\n",
    "\n",
    "    for i in range(1, n + 1):\n",
    "        #каждое выявленное простое число сохраняется в списке \n",
    "        if is_prime_3(i, list_primes):\n",
    "            list_primes.append(i)\n",
    "\n",
    "    return len(list_primes)\n",
    "\n",
    "easy_testing(count_primes_3, test_primes_in, test_primes_out)"
   ]
  },
  {
   "attachments": {},
   "cell_type": "markdown",
   "metadata": {},
   "source": [
    "Задача: Реализовать алгоритм \"Решето Эратосфена\" для быстрого поиска простых чисел O(N Log Log N)."
   ]
  },
  {
   "cell_type": "code",
   "execution_count": 17,
   "metadata": {},
   "outputs": [
    {
     "name": "stdout",
     "output_type": "stream",
     "text": [
      "Test 1: check: True, time: 0.00286 ms.\n",
      "Test 2: check: True, time: 0.00525 ms.\n",
      "Test 3: check: True, time: 0.00286 ms.\n",
      "Test 4: check: True, time: 0.0031 ms.\n",
      "Test 5: check: True, time: 0.00286 ms.\n",
      "Test 6: check: True, time: 0.00429 ms.\n",
      "Test 7: check: True, time: 0.03028 ms.\n",
      "Test 8: check: True, time: 0.32783 ms.\n",
      "Test 9: check: True, time: 3.73912 ms.\n",
      "Test 10: check: True, time: 41.22066 ms.\n",
      "Test 11: check: True, time: 460.79206 ms.\n",
      "Test 12: check: True, time: 5270.98322 ms.\n"
     ]
    }
   ],
   "source": [
    "def count_primes_4(n):\n",
    "\n",
    "    #задаем список длиной n - 1, содержащий статус числа (простое / не простое) для всех чисел от 2 до n, в начале работы алгоритма статус для всех чисел - True (простое)\n",
    "    numbers = [True for _ in range(n - 1)]\n",
    "\n",
    "    #в цикле для каждого числа i от 2 до n, если его статус - True, проводится изменение статуса на False для чисел i^2 - 2, i^2 - 2 + i и далее с шагом i до n\n",
    "    for i in range(2, n + 1):\n",
    "\n",
    "        if numbers[i - 2] is True:\n",
    "            j = i ** 2 - 2\n",
    "\n",
    "            while len(numbers) > j:\n",
    "\n",
    "                numbers[j] = False\n",
    "                j += i\n",
    "\n",
    "    #результат - количество чисел со статусом True в полученном списке статусов\n",
    "    return numbers.count(True)\n",
    "\n",
    "easy_testing(count_primes_4, test_primes_in, test_primes_out)"
   ]
  },
  {
   "attachments": {},
   "cell_type": "markdown",
   "metadata": {},
   "source": [
    "Задача: Решето Эратосфена со сложностью O(n)"
   ]
  },
  {
   "cell_type": "code",
   "execution_count": 18,
   "metadata": {},
   "outputs": [
    {
     "name": "stdout",
     "output_type": "stream",
     "text": [
      "Test 1: check: True, time: 0.00238 ms.\n",
      "Test 2: check: True, time: 0.00477 ms.\n",
      "Test 3: check: True, time: 0.0031 ms.\n",
      "Test 4: check: True, time: 0.00286 ms.\n",
      "Test 5: check: True, time: 0.00238 ms.\n",
      "Test 6: check: True, time: 0.00453 ms.\n",
      "Test 7: check: True, time: 0.03457 ms.\n",
      "Test 8: check: True, time: 0.38624 ms.\n",
      "Test 9: check: True, time: 5.24831 ms.\n",
      "Test 10: check: True, time: 43.92195 ms.\n",
      "Test 11: check: True, time: 521.89851 ms.\n",
      "Test 12: check: True, time: 4619.04788 ms.\n"
     ]
    }
   ],
   "source": [
    "def count_primes_5(n):\n",
    "    \n",
    "    #pr - список всех простых чисел до n\n",
    "    pr = []\n",
    "    #lp - минимальный простой делитель для кажого числа до n, изначально для всех чисел задается 0\n",
    "    lp = [0 for _ in range(n - 1)]\n",
    "\n",
    "    #в цикле массив простых чисел будет заполняться, для каждого числа будет определен его минимальный простой делитель\n",
    "    for i in range(2, n + 1):\n",
    "\n",
    "        #если у числа не был на предыдущих итерациях определен минимальный простой делитель, следовательно, оно простое, его необходимо сохранить \n",
    "        if lp[i - 2] == 0:\n",
    "            lp[i - 2] = i\n",
    "            pr.append(i)\n",
    "\n",
    "        #в цикле переберем числа, кратные i, и обновим у них значение lp[]\n",
    "        for p in pr:\n",
    "\n",
    "            if p > lp[i - 2] or p * i > n:\n",
    "                break\n",
    "\n",
    "            lp[p * i - 2] = p\n",
    "            \n",
    "    return len(pr)\n",
    "\n",
    "easy_testing(count_primes_5, test_primes_in, test_primes_out)"
   ]
  },
  {
   "attachments": {},
   "cell_type": "markdown",
   "metadata": {},
   "source": [
    "Вывод: алгоритмы, основанные на решете Эратосфена показывают наилучшие результаты по времени выполнения (время выполнения на порядки меньше, чем время выполнения для алгоритмов перебором)"
   ]
  }
 ],
 "metadata": {
  "kernelspec": {
   "display_name": "Python 3",
   "language": "python",
   "name": "python3"
  },
  "language_info": {
   "codemirror_mode": {
    "name": "ipython",
    "version": 3
   },
   "file_extension": ".py",
   "mimetype": "text/x-python",
   "name": "python",
   "nbconvert_exporter": "python",
   "pygments_lexer": "ipython3",
   "version": "3.10.4 (main, Dec 19 2022, 20:24:16) [GCC 9.4.0]"
  },
  "orig_nbformat": 4,
  "vscode": {
   "interpreter": {
    "hash": "3ad933181bd8a04b432d3370b9dc3b0662ad032c4dfaa4e4f1596c548f763858"
   }
  }
 },
 "nbformat": 4,
 "nbformat_minor": 2
}
